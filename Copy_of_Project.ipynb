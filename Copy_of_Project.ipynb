{
  "nbformat": 4,
  "nbformat_minor": 0,
  "metadata": {
    "colab": {
      "name": "Copy of Project.ipynb",
      "provenance": [],
      "include_colab_link": true
    },
    "kernelspec": {
      "name": "python3",
      "display_name": "Python 3"
    },
    "language_info": {
      "name": "python"
    }
  },
  "cells": [
    {
      "cell_type": "markdown",
      "metadata": {
        "id": "view-in-github",
        "colab_type": "text"
      },
      "source": [
        "<a href=\"https://colab.research.google.com/github/Franklinkalu/Data-analysis-with-python/blob/main/Copy_of_Project.ipynb\" target=\"_parent\"><img src=\"https://colab.research.google.com/assets/colab-badge.svg\" alt=\"Open In Colab\"/></a>"
      ]
    },
    {
      "cell_type": "markdown",
      "metadata": {
        "id": "cVTZVHSuncS3"
      },
      "source": [
        "# Student scores project\n",
        "---\n",
        "\n",
        "The data set at this link, https://raw.githubusercontent.com/lilaceri/Working-with-data-/main/Data%20Sets%20for%20code%20divisio/student_scores.csv, contains data about a set of students.  Each student gained a score in a test and recorded the number of hours of study they did in preparation.\n",
        "\n",
        "Using pandas and numpy, read the data, sort the data, find some summary statistics to answer a set of questions:\n",
        "\n",
        "*  how long, on average, did students spend on study?\n",
        "*  what is the range of scores?\n",
        "*  does the number of hours of study correlate with test scores?"
      ]
    },
    {
      "cell_type": "code",
      "metadata": {
        "id": "2kIdSHUSnWoC",
        "colab": {
          "base_uri": "https://localhost:8080/"
        },
        "outputId": "6cacf741-84c2-423a-80c7-6940c96e1845"
      },
      "source": [
        "import pandas as pd\n",
        "import numpy as np\n",
        "# firstly retrive the data\n",
        "# url = https://raw.githubusercontent.com/lilaceri/Working-with-data-/main/Data%20Sets%20for%20code%20divisio/student_scores.csv\n",
        "#sps = pd.read_csv(url)\n",
        "sps = pd.read_csv(\"https://raw.githubusercontent.com/lilaceri/Working-with-data-/main/Data%20Sets%20for%20code%20divisio/student_scores.csv\")\n",
        "print(sps)\n",
        "hours = np.array(sps[\"Hours\"])\n",
        "print(hours)\n",
        "print(hours.mean())\n",
        "score = np.array(sps[\"Scores\"])\n",
        "print(score.max())\n",
        "print(score.min())\n",
        "print(score.max()-score.min())\n",
        "coef = np.corrcoef(score,hours)\n",
        "print(coef)"
      ],
      "execution_count": null,
      "outputs": [
        {
          "output_type": "stream",
          "name": "stdout",
          "text": [
            "    Hours  Scores\n",
            "0     2.5      21\n",
            "1     5.1      47\n",
            "2     3.2      27\n",
            "3     8.5      75\n",
            "4     3.5      30\n",
            "5     1.5      20\n",
            "6     9.2      88\n",
            "7     5.5      60\n",
            "8     8.3      81\n",
            "9     2.7      25\n",
            "10    7.7      85\n",
            "11    5.9      62\n",
            "12    4.5      41\n",
            "13    3.3      42\n",
            "14    1.1      17\n",
            "15    8.9      95\n",
            "16    2.5      30\n",
            "17    1.9      24\n",
            "18    6.1      67\n",
            "19    7.4      69\n",
            "20    2.7      30\n",
            "21    4.8      54\n",
            "22    3.8      35\n",
            "23    6.9      76\n",
            "24    7.8      86\n",
            "[2.5 5.1 3.2 8.5 3.5 1.5 9.2 5.5 8.3 2.7 7.7 5.9 4.5 3.3 1.1 8.9 2.5 1.9\n",
            " 6.1 7.4 2.7 4.8 3.8 6.9 7.8]\n",
            "5.012\n",
            "95\n",
            "17\n",
            "78\n",
            "[[1.         0.97619066]\n",
            " [0.97619066 1.        ]]\n"
          ]
        }
      ]
    },
    {
      "cell_type": "markdown",
      "metadata": {
        "id": "dVgEMXoasSgs"
      },
      "source": [
        "Information about the scores/study hours data\n",
        "---"
      ]
    },
    {
      "cell_type": "code",
      "metadata": {
        "id": "GRWIpQE1saGk",
        "colab": {
          "base_uri": "https://localhost:8080/"
        },
        "outputId": "a86688ab-4ef8-4a1a-c697-0809a3210f84"
      },
      "source": [
        "import pandas as pd\n",
        "import numpy as np\n",
        "# firstly retrive the data\n",
        "# url = https://raw.githubusercontent.com/lilaceri/Working-with-data-/main/Data%20Sets%20for%20code%20divisio/student_scores.csv\n",
        "#sps = pd.read_csv(url)\n",
        "sps = pd.read_csv(\"https://raw.githubusercontent.com/lilaceri/Working-with-data-/main/Data%20Sets%20for%20code%20divisio/student_scores.csv\")\n",
        "print(sps.info())\n",
        "print(sps.describe())"
      ],
      "execution_count": null,
      "outputs": [
        {
          "output_type": "stream",
          "name": "stdout",
          "text": [
            "<class 'pandas.core.frame.DataFrame'>\n",
            "RangeIndex: 25 entries, 0 to 24\n",
            "Data columns (total 2 columns):\n",
            " #   Column  Non-Null Count  Dtype  \n",
            "---  ------  --------------  -----  \n",
            " 0   Hours   25 non-null     float64\n",
            " 1   Scores  25 non-null     int64  \n",
            "dtypes: float64(1), int64(1)\n",
            "memory usage: 528.0 bytes\n",
            "None\n",
            "           Hours     Scores\n",
            "count  25.000000  25.000000\n",
            "mean    5.012000  51.480000\n",
            "std     2.525094  25.286887\n",
            "min     1.100000  17.000000\n",
            "25%     2.700000  30.000000\n",
            "50%     4.800000  47.000000\n",
            "75%     7.400000  75.000000\n",
            "max     9.200000  95.000000\n"
          ]
        }
      ]
    },
    {
      "cell_type": "markdown",
      "metadata": {
        "id": "7ref5MT6sbOg"
      },
      "source": [
        "Sorted data\n",
        "---\n"
      ]
    },
    {
      "cell_type": "code",
      "metadata": {
        "id": "yXeJ0tF_skWO",
        "colab": {
          "base_uri": "https://localhost:8080/"
        },
        "outputId": "239492d7-f3a5-4098-8f45-dc81b80b08ac"
      },
      "source": [
        "#sp = sps.sort_values(\"Make\")\n",
        "sph = sps.sort_values(\"Hours\")\n",
        "#print(sph)\n",
        "spss = sps.sort_values(\"Scores\")\n",
        "print(spss)\n"
      ],
      "execution_count": null,
      "outputs": [
        {
          "output_type": "stream",
          "name": "stdout",
          "text": [
            "    Hours  Scores\n",
            "14    1.1      17\n",
            "5     1.5      20\n",
            "0     2.5      21\n",
            "17    1.9      24\n",
            "9     2.7      25\n",
            "2     3.2      27\n",
            "20    2.7      30\n",
            "4     3.5      30\n",
            "16    2.5      30\n",
            "22    3.8      35\n",
            "12    4.5      41\n",
            "13    3.3      42\n",
            "1     5.1      47\n",
            "21    4.8      54\n",
            "7     5.5      60\n",
            "11    5.9      62\n",
            "18    6.1      67\n",
            "19    7.4      69\n",
            "3     8.5      75\n",
            "23    6.9      76\n",
            "8     8.3      81\n",
            "10    7.7      85\n",
            "24    7.8      86\n",
            "6     9.2      88\n",
            "15    8.9      95\n"
          ]
        }
      ]
    },
    {
      "cell_type": "markdown",
      "metadata": {
        "id": "xXQe-iUHsoLX"
      },
      "source": [
        "How long, on average, did students spend on study?\n",
        "---"
      ]
    },
    {
      "cell_type": "code",
      "metadata": {
        "id": "x1OR0vYWswHc",
        "colab": {
          "base_uri": "https://localhost:8080/"
        },
        "outputId": "e13dafa6-9b56-4244-b2cc-6afa4d9dc03f"
      },
      "source": [
        "hours = np.array(sps[\"Hours\"])\n",
        "print(hours)\n",
        "print(hours.mean())"
      ],
      "execution_count": null,
      "outputs": [
        {
          "output_type": "stream",
          "name": "stdout",
          "text": [
            "[2.5 5.1 3.2 8.5 3.5 1.5 9.2 5.5 8.3 2.7 7.7 5.9 4.5 3.3 1.1 8.9 2.5 1.9\n",
            " 6.1 7.4 2.7 4.8 3.8 6.9 7.8]\n",
            "5.012\n"
          ]
        }
      ]
    },
    {
      "cell_type": "markdown",
      "metadata": {
        "id": "WzE9Aj2hsqTO"
      },
      "source": [
        "What is the range of scores?\n",
        "---\n"
      ]
    },
    {
      "cell_type": "code",
      "metadata": {
        "id": "4C4hcd_Es0fl",
        "colab": {
          "base_uri": "https://localhost:8080/"
        },
        "outputId": "88bee118-e8e6-48fb-b35e-9713369bf076"
      },
      "source": [
        "score = np.array(sps[\"Scores\"])\n",
        "print(score.max())\n",
        "print(score.min())\n",
        "print(score.max()-score.min())"
      ],
      "execution_count": null,
      "outputs": [
        {
          "output_type": "stream",
          "name": "stdout",
          "text": [
            "95\n",
            "17\n",
            "78\n"
          ]
        }
      ]
    },
    {
      "cell_type": "markdown",
      "metadata": {
        "id": "T14WwykSs0un"
      },
      "source": [
        "Does the number of hours of study correlate with score?\n",
        "---\n"
      ]
    },
    {
      "cell_type": "code",
      "metadata": {
        "id": "e0wQznCCs96S",
        "colab": {
          "base_uri": "https://localhost:8080/"
        },
        "outputId": "585940e6-b455-4678-d796-808f087cd15d"
      },
      "source": [
        "coef = np.corrcoef(score,hours)\n",
        "print(coef)"
      ],
      "execution_count": null,
      "outputs": [
        {
          "output_type": "stream",
          "name": "stdout",
          "text": [
            "[[1.         0.97619066]\n",
            " [0.97619066 1.        ]]\n"
          ]
        }
      ]
    },
    {
      "cell_type": "markdown",
      "metadata": {
        "id": "fbhJ8wUEs-Ia"
      },
      "source": [
        "Show the data in a scatter plot\n",
        "---\n"
      ]
    },
    {
      "cell_type": "code",
      "metadata": {
        "id": "70FMyLJ2tFVm"
      },
      "source": [
        ""
      ],
      "execution_count": null,
      "outputs": []
    },
    {
      "cell_type": "markdown",
      "metadata": {
        "id": "AFjswpvmtFpR"
      },
      "source": [
        "Summarise what you have learnt from the data\n",
        "---\n",
        "\n",
        "**Edit here**"
      ]
    },
    {
      "cell_type": "code",
      "metadata": {
        "id": "GpJC-Wk8t1lC"
      },
      "source": [
        ""
      ],
      "execution_count": null,
      "outputs": []
    },
    {
      "cell_type": "markdown",
      "metadata": {
        "id": "pzmgeusot3PF"
      },
      "source": [
        "Is there anything else you can show from this data?\n",
        "---\n"
      ]
    },
    {
      "cell_type": "code",
      "metadata": {
        "id": "4dCcLSm0t2NY"
      },
      "source": [
        ""
      ],
      "execution_count": null,
      "outputs": []
    }
  ]
}